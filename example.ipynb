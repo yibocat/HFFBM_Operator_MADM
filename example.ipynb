{
 "cells": [
  {
   "cell_type": "code",
   "execution_count": 1,
   "outputs": [],
   "source": [
    "import mohusets.fuzzynumbers as fns\n",
    "import mohusets.fuzzysets as fs\n",
    "\n",
    "from HFFWBM_HFFEWBM import HFFWBM,HFFEWBM\n",
    "\n",
    "import numpy as np"
   ],
   "metadata": {
    "collapsed": false
   }
  },
  {
   "cell_type": "code",
   "execution_count": 2,
   "outputs": [],
   "source": [
    "e1 = fns.qrungdhfe(3,[0.7],[0.1,0.2])\n",
    "e2 = fns.qrungdhfe(3,[0.6,0.9],[0.5])\n",
    "e3 = fns.qrungdhfe(3,[0.8],[0.4])\n",
    "\n",
    "e = [e1,e2,e3]\n",
    "w = [0.3,0.2,0.5]"
   ],
   "metadata": {
    "collapsed": false
   }
  },
  {
   "cell_type": "code",
   "execution_count": 3,
   "outputs": [
    {
     "data": {
      "text/plain": "qrungdhfe(Q=3)[16,16]:{\n md :[0.7098 0.7496 0.7257 0.7599 0.744  0.7726 0.755  0.7806 0.7664 0.7893\n 0.775  0.7959 0.7858 0.8045 0.7927 0.8101],\n nmd:[0.3828 0.3834 0.3849 0.3854 0.3839 0.3844 0.386  0.3865 0.3869 0.3875\n 0.3891 0.3896 0.388  0.3886 0.3902 0.3907] }"
     },
     "execution_count": 3,
     "metadata": {},
     "output_type": "execute_result"
    }
   ],
   "source": [
    "bm1 = HFFWBM(e,qrung=3,p=1,q=2)\n",
    "bm1"
   ],
   "metadata": {
    "collapsed": false
   }
  },
  {
   "cell_type": "code",
   "execution_count": 4,
   "outputs": [
    {
     "data": {
      "text/plain": "qrungdhfe(Q=3)[16,16]:{\n md :[0.5334 0.5484 0.5402 0.554  0.5692 0.5786 0.5734 0.5823 0.5668 0.5765\n 0.5711 0.5803 0.5912 0.5982 0.5942 0.601 ],\n nmd:[0.6864 0.6873 0.6912 0.692  0.6932 0.694  0.698  0.6989 0.7031 0.7039\n 0.7081 0.709  0.7103 0.7112 0.7155 0.7165] }"
     },
     "execution_count": 4,
     "metadata": {},
     "output_type": "execute_result"
    }
   ],
   "source": [
    "bm2 = HFFWBM(e,qrung=3,weight=w,p=1,q=2)\n",
    "bm2"
   ],
   "metadata": {
    "collapsed": false
   }
  },
  {
   "cell_type": "code",
   "execution_count": 5,
   "outputs": [
    {
     "data": {
      "text/plain": "qrungdhfe(Q=3)[16,16]:{\n md :[0.7144 0.7581 0.731  0.7674 0.7518 0.7804 0.762  0.7873 0.7753 0.7969\n 0.7827 0.8024 0.7934 0.8106 0.7992 0.8152],\n nmd:[0.3829 0.3835 0.3851 0.3857 0.384  0.3846 0.3862 0.3868 0.3869 0.3875\n 0.3891 0.3897 0.388  0.3886 0.3902 0.3908] }"
     },
     "execution_count": 5,
     "metadata": {},
     "output_type": "execute_result"
    }
   ],
   "source": [
    "bm3 = HFFEWBM(e,qrung=3,p=1,q=2)\n",
    "bm3"
   ],
   "metadata": {
    "collapsed": false
   }
  },
  {
   "cell_type": "code",
   "execution_count": 6,
   "outputs": [
    {
     "data": {
      "text/plain": "qrungdhfe(Q=3)[16,16]:{\n md :[0.5221 0.5321 0.5269 0.5362 0.5526 0.5588 0.5555 0.5615 0.5469 0.5537\n 0.5501 0.5566 0.5688 0.5736 0.571  0.5757],\n nmd:[0.722  0.7228 0.7276 0.7283 0.7295 0.7303 0.7353 0.7361 0.7393 0.7401\n 0.7454 0.7463 0.7476 0.7485 0.7542 0.7551] }"
     },
     "execution_count": 6,
     "metadata": {},
     "output_type": "execute_result"
    }
   ],
   "source": [
    "bm4 = HFFEWBM(e,qrung=3,weight=w,p=1,q=2)\n",
    "bm4"
   ],
   "metadata": {
    "collapsed": false
   }
  },
  {
   "cell_type": "code",
   "execution_count": 7,
   "outputs": [
    {
     "data": {
      "text/plain": "(0.40002931573803835,\n -0.15670454691028535,\n 0.4125115422931422,\n -0.23305180730989503)"
     },
     "execution_count": 7,
     "metadata": {},
     "output_type": "execute_result"
    }
   ],
   "source": [
    "bm1.score,bm2.score,bm3.score,bm4.score"
   ],
   "metadata": {
    "collapsed": false
   }
  },
  {
   "cell_type": "code",
   "execution_count": null,
   "outputs": [],
   "source": [],
   "metadata": {
    "collapsed": false
   }
  },
  {
   "cell_type": "code",
   "execution_count": null,
   "outputs": [],
   "source": [],
   "metadata": {
    "collapsed": false
   }
  },
  {
   "cell_type": "code",
   "execution_count": null,
   "outputs": [],
   "source": [],
   "metadata": {
    "collapsed": false
   }
  }
 ],
 "metadata": {
  "kernelspec": {
   "display_name": "Python 3",
   "language": "python",
   "name": "python3"
  },
  "language_info": {
   "codemirror_mode": {
    "name": "ipython",
    "version": 2
   },
   "file_extension": ".py",
   "mimetype": "text/x-python",
   "name": "python",
   "nbconvert_exporter": "python",
   "pygments_lexer": "ipython2",
   "version": "2.7.6"
  }
 },
 "nbformat": 4,
 "nbformat_minor": 0
}
