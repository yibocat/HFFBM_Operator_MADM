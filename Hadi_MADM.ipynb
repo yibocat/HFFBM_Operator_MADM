{
 "cells": [
  {
   "cell_type": "code",
   "execution_count": 1,
   "metadata": {
    "collapsed": true
   },
   "outputs": [],
   "source": [
    "import numpy as np\n",
    "import pandas as pd\n",
    "import copy\n",
    "import mohusets.fuzzynumbers as fns\n",
    "import mohusets.fuzzysets as fs\n",
    "import mohusets.aggregators as agg\n",
    "\n",
    "from utils import maxdev, ranking_dm, show_result"
   ]
  },
  {
   "cell_type": "code",
   "execution_count": 2,
   "outputs": [],
   "source": [
    "dataFile = 'A.csv'\n",
    "dataPath = 'data/'+dataFile\n",
    "\n",
    "lam,tao = 1,1               # Generalized hesitant Fermatean fuzzy distance parameter, lam=1 means Hamming distance, lam=2 means Euclidean distance.\n",
    "                            # tao represents the standardized risk coefficient, the value [0,1]\n",
    "\n",
    "qrung = 3"
   ],
   "metadata": {
    "collapsed": false
   }
  },
  {
   "cell_type": "code",
   "execution_count": 3,
   "outputs": [],
   "source": [
    "t = fs.fuzzyset(qrung,'qrungdhfe')\n",
    "t.loadcsv(dataPath)\n",
    "\n",
    "weight = [0.2,0.15,0.2,0.3,0.15]"
   ],
   "metadata": {
    "collapsed": false
   }
  },
  {
   "cell_type": "code",
   "execution_count": 4,
   "outputs": [
    {
     "data": {
      "text/plain": "                     0                    1                    2  \\\n0  [[0.3, 0.5], [0.6]]  [[0.6], [0.4, 0.6]]       [[0.4], [0.2]]   \n1       [[0.8], [0.2]]  [[0.6, 0.7], [0.1]]  [[0.7], [0.3, 0.4]]   \n2       [[0.2], [0.3]]       [[0.3], [0.5]]  [[0.5, 0.8], [0.2]]   \n\n                3                    4  \n0  [[0.5], [0.4]]       [[0.3], [0.6]]  \n1  [[0.3], [0.2]]       [[0.6], [0.1]]  \n2  [[0.3], [0.7]]  [[0.5], [0.4, 0.5]]  ",
      "text/html": "<div>\n<style scoped>\n    .dataframe tbody tr th:only-of-type {\n        vertical-align: middle;\n    }\n\n    .dataframe tbody tr th {\n        vertical-align: top;\n    }\n\n    .dataframe thead th {\n        text-align: right;\n    }\n</style>\n<table border=\"1\" class=\"dataframe\">\n  <thead>\n    <tr style=\"text-align: right;\">\n      <th></th>\n      <th>0</th>\n      <th>1</th>\n      <th>2</th>\n      <th>3</th>\n      <th>4</th>\n    </tr>\n  </thead>\n  <tbody>\n    <tr>\n      <th>0</th>\n      <td>[[0.3, 0.5], [0.6]]</td>\n      <td>[[0.6], [0.4, 0.6]]</td>\n      <td>[[0.4], [0.2]]</td>\n      <td>[[0.5], [0.4]]</td>\n      <td>[[0.3], [0.6]]</td>\n    </tr>\n    <tr>\n      <th>1</th>\n      <td>[[0.8], [0.2]]</td>\n      <td>[[0.6, 0.7], [0.1]]</td>\n      <td>[[0.7], [0.3, 0.4]]</td>\n      <td>[[0.3], [0.2]]</td>\n      <td>[[0.6], [0.1]]</td>\n    </tr>\n    <tr>\n      <th>2</th>\n      <td>[[0.2], [0.3]]</td>\n      <td>[[0.3], [0.5]]</td>\n      <td>[[0.5, 0.8], [0.2]]</td>\n      <td>[[0.3], [0.7]]</td>\n      <td>[[0.5], [0.4, 0.5]]</td>\n    </tr>\n  </tbody>\n</table>\n</div>"
     },
     "execution_count": 4,
     "metadata": {},
     "output_type": "execute_result"
    }
   ],
   "source": [
    "t.mat"
   ],
   "metadata": {
    "collapsed": false
   }
  },
  {
   "cell_type": "code",
   "execution_count": 5,
   "outputs": [],
   "source": [
    "def hadi_madm(ope, decision_matrix, lam, tao, indeterminacy=True, pw=0, reverse=True, **para):\n",
    "    def _method(ope, alt, w, pw=0, rev=True, **para):\n",
    "        A = ranking_dm(ope, alt, w, rev, **para)\n",
    "        score_list = []\n",
    "\n",
    "        if pw == 0:\n",
    "            posw = np.array([1 / len(alt[0]) for i in range(len(alt[0]))])\n",
    "        else:\n",
    "            posw = pw\n",
    "\n",
    "        for at in A.set:\n",
    "            score_list.append(ope(at, posw, **para).score)\n",
    "        return np.asarray(score_list)\n",
    "\n",
    "    dm_max = fs.dh_fn_sets(decision_matrix, norm='max')\n",
    "    dm_min = fs.dh_fn_sets(decision_matrix, norm='min')\n",
    "    dm_mean = fs.dh_fn_sets(decision_matrix, norm='mean')\n",
    "    dm = np.array([dm_max, dm_min, dm_mean])\n",
    "    # weight = maxdev(decision_matrix.set,lam,tao,indeterminacy)\n",
    "    result = []\n",
    "    for d in dm:\n",
    "        result.append(_method(ope, d.set, weight, pw, reverse, **para))\n",
    "    return result"
   ],
   "metadata": {
    "collapsed": false
   }
  },
  {
   "cell_type": "code",
   "execution_count": 6,
   "outputs": [
    {
     "data": {
      "text/plain": "                               A1        A2        A3 Ranking Order\nHadi's method with max   0.026170  0.300983  0.102053      A2>A3>A1\nHadi's method with min   0.026071  0.276861  0.007010      A2>A1>A3\nHadi's method with mean  0.023222  0.287516  0.037311      A2>A3>A1",
      "text/html": "<div>\n<style scoped>\n    .dataframe tbody tr th:only-of-type {\n        vertical-align: middle;\n    }\n\n    .dataframe tbody tr th {\n        vertical-align: top;\n    }\n\n    .dataframe thead th {\n        text-align: right;\n    }\n</style>\n<table border=\"1\" class=\"dataframe\">\n  <thead>\n    <tr style=\"text-align: right;\">\n      <th></th>\n      <th>A1</th>\n      <th>A2</th>\n      <th>A3</th>\n      <th>Ranking Order</th>\n    </tr>\n  </thead>\n  <tbody>\n    <tr>\n      <th>Hadi's method with max</th>\n      <td>0.026170</td>\n      <td>0.300983</td>\n      <td>0.102053</td>\n      <td>A2&gt;A3&gt;A1</td>\n    </tr>\n    <tr>\n      <th>Hadi's method with min</th>\n      <td>0.026071</td>\n      <td>0.276861</td>\n      <td>0.007010</td>\n      <td>A2&gt;A1&gt;A3</td>\n    </tr>\n    <tr>\n      <th>Hadi's method with mean</th>\n      <td>0.023222</td>\n      <td>0.287516</td>\n      <td>0.037311</td>\n      <td>A2&gt;A3&gt;A1</td>\n    </tr>\n  </tbody>\n</table>\n</div>"
     },
     "execution_count": 6,
     "metadata": {},
     "output_type": "execute_result"
    }
   ],
   "source": [
    "result1 = hadi_madm(agg.sub_weighted_ave, t, lam=lam, tao=tao, indeterminacy=False)\n",
    "\n",
    "max_res1 = show_result(t.set,'Hadi\\'s method with max',result1[0], reverse=True)\n",
    "min_res1 = show_result(t.set,'Hadi\\'s method with min',result1[1], reverse=True)\n",
    "mean_res1 = show_result(t.set,'Hadi\\'s method with mean',result1[2], reverse=True)\n",
    "res1 = pd.concat([max_res1, min_res1, mean_res1], axis=0)\n",
    "res1"
   ],
   "metadata": {
    "collapsed": false
   }
  },
  {
   "cell_type": "code",
   "execution_count": 7,
   "outputs": [
    {
     "data": {
      "text/plain": "                               A1        A2        A3 Ranking Order\nHadi's method with max  -0.058797  0.187068 -0.082743      A2>A1>A3\nHadi's method with min  -0.051779  0.176720 -0.083730      A2>A1>A3\nHadi's method with mean -0.051140  0.182605 -0.082212      A2>A1>A3",
      "text/html": "<div>\n<style scoped>\n    .dataframe tbody tr th:only-of-type {\n        vertical-align: middle;\n    }\n\n    .dataframe tbody tr th {\n        vertical-align: top;\n    }\n\n    .dataframe thead th {\n        text-align: right;\n    }\n</style>\n<table border=\"1\" class=\"dataframe\">\n  <thead>\n    <tr style=\"text-align: right;\">\n      <th></th>\n      <th>A1</th>\n      <th>A2</th>\n      <th>A3</th>\n      <th>Ranking Order</th>\n    </tr>\n  </thead>\n  <tbody>\n    <tr>\n      <th>Hadi's method with max</th>\n      <td>-0.058797</td>\n      <td>0.187068</td>\n      <td>-0.082743</td>\n      <td>A2&gt;A1&gt;A3</td>\n    </tr>\n    <tr>\n      <th>Hadi's method with min</th>\n      <td>-0.051779</td>\n      <td>0.176720</td>\n      <td>-0.083730</td>\n      <td>A2&gt;A1&gt;A3</td>\n    </tr>\n    <tr>\n      <th>Hadi's method with mean</th>\n      <td>-0.051140</td>\n      <td>0.182605</td>\n      <td>-0.082212</td>\n      <td>A2&gt;A1&gt;A3</td>\n    </tr>\n  </tbody>\n</table>\n</div>"
     },
     "execution_count": 7,
     "metadata": {},
     "output_type": "execute_result"
    }
   ],
   "source": [
    "result2 = hadi_madm(agg.sub_weighted_geom, t, lam=lam, tao=tao, indeterminacy=False)\n",
    "\n",
    "max_res2 = show_result(t.set,'Hadi\\'s method with max',result2[0], reverse=True)\n",
    "min_res2 = show_result(t.set,'Hadi\\'s method with min',result2[1], reverse=True)\n",
    "mean_res2 = show_result(t.set,'Hadi\\'s method with mean',result2[2], reverse=True)\n",
    "res2 = pd.concat([max_res2, min_res2, mean_res2], axis=0)\n",
    "res2"
   ],
   "metadata": {
    "collapsed": false
   }
  },
  {
   "cell_type": "code",
   "execution_count": null,
   "outputs": [],
   "source": [],
   "metadata": {
    "collapsed": false
   }
  },
  {
   "cell_type": "code",
   "execution_count": null,
   "outputs": [],
   "source": [],
   "metadata": {
    "collapsed": false
   }
  },
  {
   "cell_type": "code",
   "execution_count": null,
   "outputs": [],
   "source": [],
   "metadata": {
    "collapsed": false
   }
  },
  {
   "cell_type": "code",
   "execution_count": null,
   "outputs": [],
   "source": [],
   "metadata": {
    "collapsed": false
   }
  }
 ],
 "metadata": {
  "kernelspec": {
   "display_name": "Python 3",
   "language": "python",
   "name": "python3"
  },
  "language_info": {
   "codemirror_mode": {
    "name": "ipython",
    "version": 2
   },
   "file_extension": ".py",
   "mimetype": "text/x-python",
   "name": "python",
   "nbconvert_exporter": "python",
   "pygments_lexer": "ipython2",
   "version": "2.7.6"
  }
 },
 "nbformat": 4,
 "nbformat_minor": 0
}
