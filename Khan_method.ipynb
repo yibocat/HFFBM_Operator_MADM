{
 "cells": [
  {
   "cell_type": "code",
   "execution_count": 6,
   "metadata": {
    "collapsed": true
   },
   "outputs": [],
   "source": [
    "import mohusets.fuzzysets as fs\n",
    "import mohusets.aggregators as agg\n",
    "\n",
    "from utils import show_result"
   ]
  },
  {
   "cell_type": "code",
   "execution_count": 7,
   "outputs": [],
   "source": [
    "dataFile = 'A.csv'\n",
    "dataPath = 'data/'+dataFile\n",
    "\n",
    "qrung = 2\n",
    "weight = [0.2,0.15,0.2,0.3,0.15]\n",
    "\n",
    "t = fs.fuzzyset(qrung,'qrungdhfe')\n",
    "t.loadcsv(dataPath)"
   ],
   "metadata": {
    "collapsed": false
   }
  },
  {
   "cell_type": "code",
   "execution_count": 8,
   "outputs": [
    {
     "data": {
      "text/plain": "                     0                    1                    2  \\\n0  [[0.3, 0.5], [0.6]]  [[0.6], [0.4, 0.6]]       [[0.4], [0.2]]   \n1       [[0.8], [0.2]]  [[0.6, 0.7], [0.1]]  [[0.7], [0.3, 0.4]]   \n2       [[0.2], [0.3]]       [[0.3], [0.5]]  [[0.5, 0.8], [0.2]]   \n\n                3                    4  \n0  [[0.5], [0.4]]       [[0.3], [0.6]]  \n1  [[0.3], [0.2]]       [[0.6], [0.1]]  \n2  [[0.3], [0.7]]  [[0.5], [0.4, 0.5]]  ",
      "text/html": "<div>\n<style scoped>\n    .dataframe tbody tr th:only-of-type {\n        vertical-align: middle;\n    }\n\n    .dataframe tbody tr th {\n        vertical-align: top;\n    }\n\n    .dataframe thead th {\n        text-align: right;\n    }\n</style>\n<table border=\"1\" class=\"dataframe\">\n  <thead>\n    <tr style=\"text-align: right;\">\n      <th></th>\n      <th>0</th>\n      <th>1</th>\n      <th>2</th>\n      <th>3</th>\n      <th>4</th>\n    </tr>\n  </thead>\n  <tbody>\n    <tr>\n      <th>0</th>\n      <td>[[0.3, 0.5], [0.6]]</td>\n      <td>[[0.6], [0.4, 0.6]]</td>\n      <td>[[0.4], [0.2]]</td>\n      <td>[[0.5], [0.4]]</td>\n      <td>[[0.3], [0.6]]</td>\n    </tr>\n    <tr>\n      <th>1</th>\n      <td>[[0.8], [0.2]]</td>\n      <td>[[0.6, 0.7], [0.1]]</td>\n      <td>[[0.7], [0.3, 0.4]]</td>\n      <td>[[0.3], [0.2]]</td>\n      <td>[[0.6], [0.1]]</td>\n    </tr>\n    <tr>\n      <th>2</th>\n      <td>[[0.2], [0.3]]</td>\n      <td>[[0.3], [0.5]]</td>\n      <td>[[0.5, 0.8], [0.2]]</td>\n      <td>[[0.3], [0.7]]</td>\n      <td>[[0.5], [0.4, 0.5]]</td>\n    </tr>\n  </tbody>\n</table>\n</div>"
     },
     "execution_count": 8,
     "metadata": {},
     "output_type": "execute_result"
    }
   ],
   "source": [
    "t.mat"
   ],
   "metadata": {
    "collapsed": false
   }
  },
  {
   "cell_type": "code",
   "execution_count": 9,
   "outputs": [
    {
     "data": {
      "text/plain": "                 A1        A2        A3 Ranking Order\nKhan_PHFWA  0.04212  0.371397  0.031817      A2>A1>A3",
      "text/html": "<div>\n<style scoped>\n    .dataframe tbody tr th:only-of-type {\n        vertical-align: middle;\n    }\n\n    .dataframe tbody tr th {\n        vertical-align: top;\n    }\n\n    .dataframe thead th {\n        text-align: right;\n    }\n</style>\n<table border=\"1\" class=\"dataframe\">\n  <thead>\n    <tr style=\"text-align: right;\">\n      <th></th>\n      <th>A1</th>\n      <th>A2</th>\n      <th>A3</th>\n      <th>Ranking Order</th>\n    </tr>\n  </thead>\n  <tbody>\n    <tr>\n      <th>Khan_PHFWA</th>\n      <td>0.04212</td>\n      <td>0.371397</td>\n      <td>0.031817</td>\n      <td>A2&gt;A1&gt;A3</td>\n    </tr>\n  </tbody>\n</table>\n</div>"
     },
     "execution_count": 9,
     "metadata": {},
     "output_type": "execute_result"
    }
   ],
   "source": [
    "res1 = agg.sub_weighted_ave(t.set[0],weight).score\n",
    "res2 = agg.sub_weighted_ave(t.set[1],weight).score\n",
    "res3 = agg.sub_weighted_ave(t.set[2],weight).score\n",
    "res = [res1,res2,res3]\n",
    "show_result(t.set,'Khan_PHFWA',res,reverse=True)"
   ],
   "metadata": {
    "collapsed": false
   }
  },
  {
   "cell_type": "code",
   "execution_count": 10,
   "outputs": [
    {
     "data": {
      "text/plain": "                  A1        A2        A3 Ranking Order\nKhan_PHFWG -0.043219  0.241114 -0.143464      A2>A1>A3",
      "text/html": "<div>\n<style scoped>\n    .dataframe tbody tr th:only-of-type {\n        vertical-align: middle;\n    }\n\n    .dataframe tbody tr th {\n        vertical-align: top;\n    }\n\n    .dataframe thead th {\n        text-align: right;\n    }\n</style>\n<table border=\"1\" class=\"dataframe\">\n  <thead>\n    <tr style=\"text-align: right;\">\n      <th></th>\n      <th>A1</th>\n      <th>A2</th>\n      <th>A3</th>\n      <th>Ranking Order</th>\n    </tr>\n  </thead>\n  <tbody>\n    <tr>\n      <th>Khan_PHFWG</th>\n      <td>-0.043219</td>\n      <td>0.241114</td>\n      <td>-0.143464</td>\n      <td>A2&gt;A1&gt;A3</td>\n    </tr>\n  </tbody>\n</table>\n</div>"
     },
     "execution_count": 10,
     "metadata": {},
     "output_type": "execute_result"
    }
   ],
   "source": [
    "res1 = agg.sub_weighted_geom(t.set[0],weight).score\n",
    "res2 = agg.sub_weighted_geom(t.set[1],weight).score\n",
    "res3 = agg.sub_weighted_geom(t.set[2],weight).score\n",
    "res = [res1,res2,res3]\n",
    "show_result(t.set,'Khan_PHFWG',res,reverse=True)"
   ],
   "metadata": {
    "collapsed": false
   }
  },
  {
   "cell_type": "code",
   "execution_count": null,
   "outputs": [],
   "source": [],
   "metadata": {
    "collapsed": false
   }
  },
  {
   "cell_type": "code",
   "execution_count": null,
   "outputs": [],
   "source": [],
   "metadata": {
    "collapsed": false
   }
  },
  {
   "cell_type": "code",
   "execution_count": null,
   "outputs": [],
   "source": [],
   "metadata": {
    "collapsed": false
   }
  },
  {
   "cell_type": "code",
   "execution_count": null,
   "outputs": [],
   "source": [],
   "metadata": {
    "collapsed": false
   }
  },
  {
   "cell_type": "code",
   "execution_count": null,
   "outputs": [],
   "source": [],
   "metadata": {
    "collapsed": false
   }
  },
  {
   "cell_type": "code",
   "execution_count": null,
   "outputs": [],
   "source": [],
   "metadata": {
    "collapsed": false
   }
  },
  {
   "cell_type": "code",
   "execution_count": null,
   "outputs": [],
   "source": [],
   "metadata": {
    "collapsed": false
   }
  },
  {
   "cell_type": "code",
   "execution_count": null,
   "outputs": [],
   "source": [],
   "metadata": {
    "collapsed": false
   }
  },
  {
   "cell_type": "code",
   "execution_count": null,
   "outputs": [],
   "source": [],
   "metadata": {
    "collapsed": false
   }
  }
 ],
 "metadata": {
  "kernelspec": {
   "display_name": "Python 3",
   "language": "python",
   "name": "python3"
  },
  "language_info": {
   "codemirror_mode": {
    "name": "ipython",
    "version": 2
   },
   "file_extension": ".py",
   "mimetype": "text/x-python",
   "name": "python",
   "nbconvert_exporter": "python",
   "pygments_lexer": "ipython2",
   "version": "2.7.6"
  }
 },
 "nbformat": 4,
 "nbformat_minor": 0
}
