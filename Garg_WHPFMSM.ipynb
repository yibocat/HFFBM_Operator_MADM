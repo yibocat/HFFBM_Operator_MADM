{
 "cells": [
  {
   "cell_type": "code",
   "execution_count": 1,
   "metadata": {
    "collapsed": true
   },
   "outputs": [],
   "source": [
    "import numpy as np\n",
    "import pandas as pd\n",
    "\n",
    "import mohusets.fuzzynumbers as fns\n",
    "import mohusets.fuzzysets as fs\n",
    "import mohusets.aggregators as agg\n",
    "\n",
    "from utils import show_result"
   ]
  },
  {
   "cell_type": "code",
   "execution_count": 2,
   "outputs": [],
   "source": [
    "def HPFWBM(alter,weight=None,p=1,q=1):\n",
    "    def bonferroni_element(d1,d2,p_,q_):\n",
    "        s1 = fns.algeb_multiply(d1.algeb_power(p_),d2.algeb_power(q_))\n",
    "        s2 = fns.algeb_multiply(d1.algeb_power(q_),d2.algeb_power(p_))\n",
    "        return fns.algeb_plus(s1,s2)\n",
    "\n",
    "    dlist = []\n",
    "    if weight is None:\n",
    "        dl = alter\n",
    "        for i,d1 in enumerate(dl):\n",
    "            for j,d2 in enumerate(dl[:i]):\n",
    "                dlist.append(bonferroni_element(d1,d2,p,q))\n",
    "    else:\n",
    "        dl = []\n",
    "        assert len(alter) == len(weight),'The number of alter is not equal to the number of weight!'\n",
    "        for i in range(len(alter)):\n",
    "            dl.append(alter[i].algeb_times(weight[i]))\n",
    "        for i,d1 in enumerate(dl):\n",
    "            for j,d2 in enumerate(dl[:i]):\n",
    "                dlist.append(bonferroni_element(d1,d2,p,q))\n",
    "\n",
    "    agge = fns.qrungdhfe(qrung,[0],[1])\n",
    "    for agg in dlist:\n",
    "        agge = fns.algeb_plus(agg,agge)\n",
    "    agge = (agge.algeb_times(1/(len(alter)*(len(alter)-1)))).algeb_power(1/(p+q))\n",
    "    return agge\n",
    "\n",
    "def WHPFMSM(alter,weight=None,k=1):\n",
    "    if k==1:\n",
    "        return agg.sub_weighted_ave(alter,weight)\n",
    "    elif k==2:\n",
    "        return HPFWBM(alter,weight)\n",
    "    else:\n",
    "        return None"
   ],
   "metadata": {
    "collapsed": false
   }
  },
  {
   "cell_type": "code",
   "execution_count": 3,
   "outputs": [],
   "source": [
    "dataFile = 'A.csv'\n",
    "dataPath = 'data/'+dataFile\n",
    "\n",
    "qrung = 2\n",
    "\n",
    "weight = [0.2,0.15,0.2,0.3,0.15]\n",
    "\n",
    "t = fs.fuzzyset(qrung,'qrungdhfe')\n",
    "t.loadcsv(dataPath)"
   ],
   "metadata": {
    "collapsed": false
   }
  },
  {
   "cell_type": "code",
   "execution_count": 4,
   "outputs": [
    {
     "data": {
      "text/plain": "                     0                    1                    2  \\\n0  [[0.3, 0.5], [0.6]]  [[0.6], [0.4, 0.6]]       [[0.4], [0.2]]   \n1       [[0.8], [0.2]]  [[0.6, 0.7], [0.1]]  [[0.7], [0.3, 0.4]]   \n2       [[0.2], [0.3]]       [[0.3], [0.5]]  [[0.5, 0.8], [0.2]]   \n\n                3                    4  \n0  [[0.5], [0.4]]       [[0.3], [0.6]]  \n1  [[0.3], [0.2]]       [[0.6], [0.1]]  \n2  [[0.3], [0.7]]  [[0.5], [0.4, 0.5]]  ",
      "text/html": "<div>\n<style scoped>\n    .dataframe tbody tr th:only-of-type {\n        vertical-align: middle;\n    }\n\n    .dataframe tbody tr th {\n        vertical-align: top;\n    }\n\n    .dataframe thead th {\n        text-align: right;\n    }\n</style>\n<table border=\"1\" class=\"dataframe\">\n  <thead>\n    <tr style=\"text-align: right;\">\n      <th></th>\n      <th>0</th>\n      <th>1</th>\n      <th>2</th>\n      <th>3</th>\n      <th>4</th>\n    </tr>\n  </thead>\n  <tbody>\n    <tr>\n      <th>0</th>\n      <td>[[0.3, 0.5], [0.6]]</td>\n      <td>[[0.6], [0.4, 0.6]]</td>\n      <td>[[0.4], [0.2]]</td>\n      <td>[[0.5], [0.4]]</td>\n      <td>[[0.3], [0.6]]</td>\n    </tr>\n    <tr>\n      <th>1</th>\n      <td>[[0.8], [0.2]]</td>\n      <td>[[0.6, 0.7], [0.1]]</td>\n      <td>[[0.7], [0.3, 0.4]]</td>\n      <td>[[0.3], [0.2]]</td>\n      <td>[[0.6], [0.1]]</td>\n    </tr>\n    <tr>\n      <th>2</th>\n      <td>[[0.2], [0.3]]</td>\n      <td>[[0.3], [0.5]]</td>\n      <td>[[0.5, 0.8], [0.2]]</td>\n      <td>[[0.3], [0.7]]</td>\n      <td>[[0.5], [0.4, 0.5]]</td>\n    </tr>\n  </tbody>\n</table>\n</div>"
     },
     "execution_count": 4,
     "metadata": {},
     "output_type": "execute_result"
    }
   ],
   "source": [
    "t.mat"
   ],
   "metadata": {
    "collapsed": false
   }
  },
  {
   "cell_type": "code",
   "execution_count": 5,
   "outputs": [],
   "source": [
    "res1 = [WHPFMSM(t.set[0],weight,k=1).score,WHPFMSM(t.set[1],weight,k=1).score,WHPFMSM(t.set[2],weight,k=1).score]\n",
    "res2 = [WHPFMSM(t.set[0],weight,k=2).score,WHPFMSM(t.set[1],weight,k=2).score,WHPFMSM(t.set[2],weight,k=2).score]"
   ],
   "metadata": {
    "collapsed": false
   }
  },
  {
   "cell_type": "code",
   "execution_count": 6,
   "outputs": [],
   "source": [
    "r1 = show_result(t.set,'Garg_WHPFMSM(k=1)',res1,reverse=True)\n",
    "r2 = show_result(t.set,'Garg_WHPFMSM(k=2)',res2,reverse=True)\n",
    "result = pd.concat([r1,r2])"
   ],
   "metadata": {
    "collapsed": false
   }
  },
  {
   "cell_type": "code",
   "execution_count": 7,
   "outputs": [
    {
     "data": {
      "text/plain": "                         A1        A2        A3 Ranking Order\nGarg_WHPFMSM(k=1)  0.042120  0.371397  0.031817      A2>A1>A3\nGarg_WHPFMSM(k=2) -0.677872 -0.419742 -0.676821      A2>A3>A1",
      "text/html": "<div>\n<style scoped>\n    .dataframe tbody tr th:only-of-type {\n        vertical-align: middle;\n    }\n\n    .dataframe tbody tr th {\n        vertical-align: top;\n    }\n\n    .dataframe thead th {\n        text-align: right;\n    }\n</style>\n<table border=\"1\" class=\"dataframe\">\n  <thead>\n    <tr style=\"text-align: right;\">\n      <th></th>\n      <th>A1</th>\n      <th>A2</th>\n      <th>A3</th>\n      <th>Ranking Order</th>\n    </tr>\n  </thead>\n  <tbody>\n    <tr>\n      <th>Garg_WHPFMSM(k=1)</th>\n      <td>0.042120</td>\n      <td>0.371397</td>\n      <td>0.031817</td>\n      <td>A2&gt;A1&gt;A3</td>\n    </tr>\n    <tr>\n      <th>Garg_WHPFMSM(k=2)</th>\n      <td>-0.677872</td>\n      <td>-0.419742</td>\n      <td>-0.676821</td>\n      <td>A2&gt;A3&gt;A1</td>\n    </tr>\n  </tbody>\n</table>\n</div>"
     },
     "execution_count": 7,
     "metadata": {},
     "output_type": "execute_result"
    }
   ],
   "source": [
    "result"
   ],
   "metadata": {
    "collapsed": false
   }
  },
  {
   "cell_type": "code",
   "execution_count": null,
   "outputs": [],
   "source": [],
   "metadata": {
    "collapsed": false
   }
  },
  {
   "cell_type": "code",
   "execution_count": null,
   "outputs": [],
   "source": [],
   "metadata": {
    "collapsed": false
   }
  },
  {
   "cell_type": "code",
   "execution_count": null,
   "outputs": [],
   "source": [],
   "metadata": {
    "collapsed": false
   }
  },
  {
   "cell_type": "code",
   "execution_count": null,
   "outputs": [],
   "source": [],
   "metadata": {
    "collapsed": false
   }
  }
 ],
 "metadata": {
  "kernelspec": {
   "display_name": "Python 3",
   "language": "python",
   "name": "python3"
  },
  "language_info": {
   "codemirror_mode": {
    "name": "ipython",
    "version": 2
   },
   "file_extension": ".py",
   "mimetype": "text/x-python",
   "name": "python",
   "nbconvert_exporter": "python",
   "pygments_lexer": "ipython2",
   "version": "2.7.6"
  }
 },
 "nbformat": 4,
 "nbformat_minor": 0
}
