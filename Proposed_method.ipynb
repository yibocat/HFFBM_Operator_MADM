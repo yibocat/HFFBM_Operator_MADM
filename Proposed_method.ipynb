{
 "cells": [
  {
   "cell_type": "code",
   "execution_count": 1,
   "outputs": [],
   "source": [
    "import numpy as np\n",
    "import pandas as pd\n",
    "\n",
    "import mohusets.fuzzynumbers as fns\n",
    "import mohusets.fuzzysets as fs\n",
    "\n",
    "from utils import show_result\n",
    "from HFFWBM_HFFEWBM import HFFWBM,HFFEWBM"
   ],
   "metadata": {
    "collapsed": false
   }
  },
  {
   "cell_type": "code",
   "execution_count": 2,
   "outputs": [],
   "source": [
    "dataFile = 'A.csv'                      # Selection of patients\n",
    "dataPath = 'data/'+dataFile\n",
    "\n",
    "qrung = 3\n",
    "\n",
    "weight = [0.2,0.15,0.2,0.3,0.15]\n",
    "p,q=1,1\n",
    "\n",
    "t = fs.fuzzyset(qrung,'qrungdhfe')\n",
    "t.loadcsv(dataPath)"
   ],
   "metadata": {
    "collapsed": false
   }
  },
  {
   "cell_type": "code",
   "execution_count": 3,
   "outputs": [
    {
     "data": {
      "text/plain": "                     0                    1                    2  \\\n0  [[0.3, 0.5], [0.6]]  [[0.6], [0.4, 0.6]]       [[0.4], [0.2]]   \n1       [[0.8], [0.2]]  [[0.6, 0.7], [0.1]]  [[0.7], [0.3, 0.4]]   \n2       [[0.2], [0.3]]       [[0.3], [0.5]]  [[0.5, 0.8], [0.2]]   \n\n                3                    4  \n0  [[0.5], [0.4]]       [[0.3], [0.6]]  \n1  [[0.3], [0.2]]       [[0.6], [0.1]]  \n2  [[0.3], [0.7]]  [[0.5], [0.4, 0.5]]  ",
      "text/html": "<div>\n<style scoped>\n    .dataframe tbody tr th:only-of-type {\n        vertical-align: middle;\n    }\n\n    .dataframe tbody tr th {\n        vertical-align: top;\n    }\n\n    .dataframe thead th {\n        text-align: right;\n    }\n</style>\n<table border=\"1\" class=\"dataframe\">\n  <thead>\n    <tr style=\"text-align: right;\">\n      <th></th>\n      <th>0</th>\n      <th>1</th>\n      <th>2</th>\n      <th>3</th>\n      <th>4</th>\n    </tr>\n  </thead>\n  <tbody>\n    <tr>\n      <th>0</th>\n      <td>[[0.3, 0.5], [0.6]]</td>\n      <td>[[0.6], [0.4, 0.6]]</td>\n      <td>[[0.4], [0.2]]</td>\n      <td>[[0.5], [0.4]]</td>\n      <td>[[0.3], [0.6]]</td>\n    </tr>\n    <tr>\n      <th>1</th>\n      <td>[[0.8], [0.2]]</td>\n      <td>[[0.6, 0.7], [0.1]]</td>\n      <td>[[0.7], [0.3, 0.4]]</td>\n      <td>[[0.3], [0.2]]</td>\n      <td>[[0.6], [0.1]]</td>\n    </tr>\n    <tr>\n      <th>2</th>\n      <td>[[0.2], [0.3]]</td>\n      <td>[[0.3], [0.5]]</td>\n      <td>[[0.5, 0.8], [0.2]]</td>\n      <td>[[0.3], [0.7]]</td>\n      <td>[[0.5], [0.4, 0.5]]</td>\n    </tr>\n  </tbody>\n</table>\n</div>"
     },
     "execution_count": 3,
     "metadata": {},
     "output_type": "execute_result"
    }
   ],
   "source": [
    "t.mat"
   ],
   "metadata": {
    "collapsed": false
   }
  },
  {
   "cell_type": "code",
   "execution_count": 4,
   "outputs": [],
   "source": [
    "DA = [HFFWBM(t.set[i],qrung,weight,p,q).score for i in range(t.shape[0])]\n",
    "DE = [HFFEWBM(t.set[i],qrung,weight,p,q).score for i in range(t.shape[0])]"
   ],
   "metadata": {
    "collapsed": false
   }
  },
  {
   "cell_type": "code",
   "execution_count": 5,
   "outputs": [
    {
     "data": {
      "text/plain": "                 A1        A2        A3 Ranking Order\nHFFWBM_A  -0.598947 -0.311776 -0.589784      A2>A3>A1\nHFFEWBM_A -0.671507 -0.430919 -0.670644      A2>A3>A1",
      "text/html": "<div>\n<style scoped>\n    .dataframe tbody tr th:only-of-type {\n        vertical-align: middle;\n    }\n\n    .dataframe tbody tr th {\n        vertical-align: top;\n    }\n\n    .dataframe thead th {\n        text-align: right;\n    }\n</style>\n<table border=\"1\" class=\"dataframe\">\n  <thead>\n    <tr style=\"text-align: right;\">\n      <th></th>\n      <th>A1</th>\n      <th>A2</th>\n      <th>A3</th>\n      <th>Ranking Order</th>\n    </tr>\n  </thead>\n  <tbody>\n    <tr>\n      <th>HFFWBM_A</th>\n      <td>-0.598947</td>\n      <td>-0.311776</td>\n      <td>-0.589784</td>\n      <td>A2&gt;A3&gt;A1</td>\n    </tr>\n    <tr>\n      <th>HFFEWBM_A</th>\n      <td>-0.671507</td>\n      <td>-0.430919</td>\n      <td>-0.670644</td>\n      <td>A2&gt;A3&gt;A1</td>\n    </tr>\n  </tbody>\n</table>\n</div>"
     },
     "execution_count": 5,
     "metadata": {},
     "output_type": "execute_result"
    }
   ],
   "source": [
    "res1 = show_result(t.set,'HFFWBM_'+dataFile[0],DA,reverse=True)\n",
    "res2 = show_result(t.set,'HFFEWBM_'+dataFile[0],DE,reverse=True)\n",
    "res = pd.concat([res1,res2])\n",
    "res"
   ],
   "metadata": {
    "collapsed": false
   }
  },
  {
   "cell_type": "code",
   "execution_count": 6,
   "outputs": [],
   "source": [
    "pq = [[1,1],[1,2],[1,3],[2,3],[3,3],[3,4],[3,5],[4,5],[5,5]]\n",
    "\n",
    "# pq = np.round(np.arange(0.15,5,0.05),3)"
   ],
   "metadata": {
    "collapsed": false
   }
  },
  {
   "cell_type": "code",
   "execution_count": 7,
   "outputs": [],
   "source": [
    "DA_list = []\n",
    "DE_list = []\n",
    "\n",
    "for i in pq:\n",
    "    DA_list.append([HFFWBM(t.set[j],qrung,weight,i[0],i[1]).score for j in range(t.shape[0])])\n",
    "    DE_list.append([HFFEWBM(t.set[j],qrung,weight,i[0],i[1]).score for j in range(t.shape[0])])\n",
    "\n",
    "result1 = [show_result(t.set,'HFFWBM_'+dataFile[0]+str(pq[j]),DA_list[j],reverse=True) for j in range(len(DA_list))]\n",
    "result2 = [show_result(t.set,'HFFEWBM_'+dataFile[0]+str(pq[j]),DE_list[j],reverse=True) for j in range(len(DA_list))]\n",
    "\n",
    "ress1 = pd.concat(result1)\n",
    "ress2 = pd.concat(result2)"
   ],
   "metadata": {
    "collapsed": false
   }
  },
  {
   "cell_type": "code",
   "execution_count": 8,
   "outputs": [
    {
     "data": {
      "text/plain": "                      A1        A2        A3 Ranking Order\nHFFWBM_A[1, 1] -0.598947 -0.311776 -0.589784      A2>A3>A1\nHFFWBM_A[1, 2] -0.576582 -0.300122 -0.568410      A2>A3>A1\nHFFWBM_A[1, 3] -0.550010 -0.287089 -0.539736      A2>A3>A1\nHFFWBM_A[2, 3] -0.552045 -0.289327 -0.549832      A2>A3>A1\nHFFWBM_A[3, 3] -0.541313 -0.285651 -0.543906      A2>A1>A3\nHFFWBM_A[3, 4] -0.526987 -0.279675 -0.530807      A2>A1>A3\nHFFWBM_A[3, 5] -0.512769 -0.272806 -0.515216      A2>A1>A3\nHFFWBM_A[4, 5] -0.505036 -0.271487 -0.513398      A2>A1>A3\nHFFWBM_A[5, 5] -0.495959 -0.268520 -0.508159      A2>A1>A3",
      "text/html": "<div>\n<style scoped>\n    .dataframe tbody tr th:only-of-type {\n        vertical-align: middle;\n    }\n\n    .dataframe tbody tr th {\n        vertical-align: top;\n    }\n\n    .dataframe thead th {\n        text-align: right;\n    }\n</style>\n<table border=\"1\" class=\"dataframe\">\n  <thead>\n    <tr style=\"text-align: right;\">\n      <th></th>\n      <th>A1</th>\n      <th>A2</th>\n      <th>A3</th>\n      <th>Ranking Order</th>\n    </tr>\n  </thead>\n  <tbody>\n    <tr>\n      <th>HFFWBM_A[1, 1]</th>\n      <td>-0.598947</td>\n      <td>-0.311776</td>\n      <td>-0.589784</td>\n      <td>A2&gt;A3&gt;A1</td>\n    </tr>\n    <tr>\n      <th>HFFWBM_A[1, 2]</th>\n      <td>-0.576582</td>\n      <td>-0.300122</td>\n      <td>-0.568410</td>\n      <td>A2&gt;A3&gt;A1</td>\n    </tr>\n    <tr>\n      <th>HFFWBM_A[1, 3]</th>\n      <td>-0.550010</td>\n      <td>-0.287089</td>\n      <td>-0.539736</td>\n      <td>A2&gt;A3&gt;A1</td>\n    </tr>\n    <tr>\n      <th>HFFWBM_A[2, 3]</th>\n      <td>-0.552045</td>\n      <td>-0.289327</td>\n      <td>-0.549832</td>\n      <td>A2&gt;A3&gt;A1</td>\n    </tr>\n    <tr>\n      <th>HFFWBM_A[3, 3]</th>\n      <td>-0.541313</td>\n      <td>-0.285651</td>\n      <td>-0.543906</td>\n      <td>A2&gt;A1&gt;A3</td>\n    </tr>\n    <tr>\n      <th>HFFWBM_A[3, 4]</th>\n      <td>-0.526987</td>\n      <td>-0.279675</td>\n      <td>-0.530807</td>\n      <td>A2&gt;A1&gt;A3</td>\n    </tr>\n    <tr>\n      <th>HFFWBM_A[3, 5]</th>\n      <td>-0.512769</td>\n      <td>-0.272806</td>\n      <td>-0.515216</td>\n      <td>A2&gt;A1&gt;A3</td>\n    </tr>\n    <tr>\n      <th>HFFWBM_A[4, 5]</th>\n      <td>-0.505036</td>\n      <td>-0.271487</td>\n      <td>-0.513398</td>\n      <td>A2&gt;A1&gt;A3</td>\n    </tr>\n    <tr>\n      <th>HFFWBM_A[5, 5]</th>\n      <td>-0.495959</td>\n      <td>-0.268520</td>\n      <td>-0.508159</td>\n      <td>A2&gt;A1&gt;A3</td>\n    </tr>\n  </tbody>\n</table>\n</div>"
     },
     "execution_count": 8,
     "metadata": {},
     "output_type": "execute_result"
    }
   ],
   "source": [
    "ress1"
   ],
   "metadata": {
    "collapsed": false
   }
  },
  {
   "cell_type": "code",
   "execution_count": 9,
   "outputs": [
    {
     "data": {
      "text/plain": "                       A1        A2        A3 Ranking Order\nHFFEWBM_A[1, 1] -0.671507 -0.430919 -0.670644      A2>A3>A1\nHFFEWBM_A[1, 2] -0.644945 -0.416814 -0.647927      A2>A1>A3\nHFFEWBM_A[1, 3] -0.617087 -0.400026 -0.619439      A2>A1>A3\nHFFEWBM_A[2, 3] -0.616178 -0.401914 -0.627544      A2>A1>A3\nHFFEWBM_A[3, 3] -0.604352 -0.397402 -0.621365      A2>A1>A3\nHFFEWBM_A[3, 4] -0.590988 -0.389826 -0.609217      A2>A1>A3\nHFFEWBM_A[3, 5] -0.578985 -0.380731 -0.595746      A2>A1>A3\nHFFEWBM_A[4, 5] -0.599453 -0.380144 -0.599566      A2>A1>A3\nHFFEWBM_A[5, 5] -0.592304 -0.377094 -0.620737      A2>A1>A3",
      "text/html": "<div>\n<style scoped>\n    .dataframe tbody tr th:only-of-type {\n        vertical-align: middle;\n    }\n\n    .dataframe tbody tr th {\n        vertical-align: top;\n    }\n\n    .dataframe thead th {\n        text-align: right;\n    }\n</style>\n<table border=\"1\" class=\"dataframe\">\n  <thead>\n    <tr style=\"text-align: right;\">\n      <th></th>\n      <th>A1</th>\n      <th>A2</th>\n      <th>A3</th>\n      <th>Ranking Order</th>\n    </tr>\n  </thead>\n  <tbody>\n    <tr>\n      <th>HFFEWBM_A[1, 1]</th>\n      <td>-0.671507</td>\n      <td>-0.430919</td>\n      <td>-0.670644</td>\n      <td>A2&gt;A3&gt;A1</td>\n    </tr>\n    <tr>\n      <th>HFFEWBM_A[1, 2]</th>\n      <td>-0.644945</td>\n      <td>-0.416814</td>\n      <td>-0.647927</td>\n      <td>A2&gt;A1&gt;A3</td>\n    </tr>\n    <tr>\n      <th>HFFEWBM_A[1, 3]</th>\n      <td>-0.617087</td>\n      <td>-0.400026</td>\n      <td>-0.619439</td>\n      <td>A2&gt;A1&gt;A3</td>\n    </tr>\n    <tr>\n      <th>HFFEWBM_A[2, 3]</th>\n      <td>-0.616178</td>\n      <td>-0.401914</td>\n      <td>-0.627544</td>\n      <td>A2&gt;A1&gt;A3</td>\n    </tr>\n    <tr>\n      <th>HFFEWBM_A[3, 3]</th>\n      <td>-0.604352</td>\n      <td>-0.397402</td>\n      <td>-0.621365</td>\n      <td>A2&gt;A1&gt;A3</td>\n    </tr>\n    <tr>\n      <th>HFFEWBM_A[3, 4]</th>\n      <td>-0.590988</td>\n      <td>-0.389826</td>\n      <td>-0.609217</td>\n      <td>A2&gt;A1&gt;A3</td>\n    </tr>\n    <tr>\n      <th>HFFEWBM_A[3, 5]</th>\n      <td>-0.578985</td>\n      <td>-0.380731</td>\n      <td>-0.595746</td>\n      <td>A2&gt;A1&gt;A3</td>\n    </tr>\n    <tr>\n      <th>HFFEWBM_A[4, 5]</th>\n      <td>-0.599453</td>\n      <td>-0.380144</td>\n      <td>-0.599566</td>\n      <td>A2&gt;A1&gt;A3</td>\n    </tr>\n    <tr>\n      <th>HFFEWBM_A[5, 5]</th>\n      <td>-0.592304</td>\n      <td>-0.377094</td>\n      <td>-0.620737</td>\n      <td>A2&gt;A1&gt;A3</td>\n    </tr>\n  </tbody>\n</table>\n</div>"
     },
     "execution_count": 9,
     "metadata": {},
     "output_type": "execute_result"
    }
   ],
   "source": [
    "ress2"
   ],
   "metadata": {
    "collapsed": false
   }
  },
  {
   "cell_type": "code",
   "execution_count": null,
   "outputs": [],
   "source": [],
   "metadata": {
    "collapsed": false
   }
  },
  {
   "cell_type": "code",
   "execution_count": null,
   "outputs": [],
   "source": [],
   "metadata": {
    "collapsed": false
   }
  },
  {
   "cell_type": "code",
   "execution_count": null,
   "outputs": [],
   "source": [],
   "metadata": {
    "collapsed": false
   }
  },
  {
   "cell_type": "code",
   "execution_count": null,
   "outputs": [],
   "source": [],
   "metadata": {
    "collapsed": false
   }
  },
  {
   "cell_type": "code",
   "execution_count": null,
   "outputs": [],
   "source": [],
   "metadata": {
    "collapsed": false
   }
  },
  {
   "cell_type": "code",
   "execution_count": null,
   "outputs": [],
   "source": [],
   "metadata": {
    "collapsed": false
   }
  },
  {
   "cell_type": "code",
   "execution_count": null,
   "outputs": [],
   "source": [],
   "metadata": {
    "collapsed": false
   }
  }
 ],
 "metadata": {
  "kernelspec": {
   "display_name": "Python 3",
   "language": "python",
   "name": "python3"
  },
  "language_info": {
   "codemirror_mode": {
    "name": "ipython",
    "version": 2
   },
   "file_extension": ".py",
   "mimetype": "text/x-python",
   "name": "python",
   "nbconvert_exporter": "python",
   "pygments_lexer": "ipython2",
   "version": "2.7.6"
  }
 },
 "nbformat": 4,
 "nbformat_minor": 0
}
